{
 "cells": [
  {
   "cell_type": "markdown",
   "metadata": {},
   "source": [
    "## Get pdfs from arxiv.org\n"
   ]
  },
  {
   "cell_type": "code",
   "execution_count": 1,
   "metadata": {},
   "outputs": [],
   "source": [
    "# Set up to use local modules\n",
    "%load_ext autoreload\n",
    "%autoreload 2\n",
    "import os\n",
    "import sys\n",
    "module_path = os.path.abspath(os.path.join('..')) # Add parent directory to path\n",
    "sys.path.insert(0, module_path)"
   ]
  },
  {
   "cell_type": "code",
   "execution_count": 2,
   "metadata": {},
   "outputs": [],
   "source": [
    "import urllib.request\n",
    "import pyprojroot\n",
    "\n",
    "PDF_DIR = pyprojroot.here(\"data\")"
   ]
  },
  {
   "cell_type": "code",
   "execution_count": 3,
   "metadata": {},
   "outputs": [
    {
     "name": "stdout",
     "output_type": "stream",
     "text": [
      "Observation of an inverse turbulent-wave cascade in a driven quantum gas\n",
      "Robustness of Fixed Points of Quantum Channels and Application to Approximate Quantum Markov Chains\n",
      "Polarization dependent non-Hermitian atomic grating controlled by dipole blockade effect\n",
      "Centerless-BMS charge algebra\n",
      "Driven Multiphoton Qubit-Resonator Interactions\n",
      "Geometric Quantization Without Polarizations\n",
      "Effective Lifshitz black holes, hydrodynamics, and transport coefficients in fluid/gravity correspondence\n",
      "Optical Manipulation of Spin States in Ultracold Magnetic Atoms via an Inner-Shell Hz Transition\n",
      "Single-layer tensor network approach for three-dimensional quantum systems\n",
      "A Formulation of Quantum Fluid Mechanics and Trajectories\n"
     ]
    }
   ],
   "source": [
    "# https://lukasschwab.me/arxiv.py/arxiv.html\n",
    "\n",
    "import arxiv\n",
    "\n",
    "# Construct the default API client.\n",
    "client = arxiv.Client()\n",
    "\n",
    "# Search for the 10 most recent articles matching the keyword \"quantum.\"\n",
    "search = arxiv.Search(\n",
    "    query=\"quantum\", max_results=10, sort_by=arxiv.SortCriterion.SubmittedDate\n",
    ")\n",
    "\n",
    "results = client.results(search)\n",
    "\n",
    "# `results` is a generator; you can iterate over its elements one by one...\n",
    "for r in client.results(search):\n",
    "    print(r.title)\n",
    "# ...or exhaust it into a list. Careful: this is slow for large results sets.\n",
    "# all_results = list(results)\n",
    "# print([r.title for r in all_results])"
   ]
  },
  {
   "cell_type": "code",
   "execution_count": 4,
   "metadata": {},
   "outputs": [
    {
     "name": "stdout",
     "output_type": "stream",
     "text": [
      "Attention Is All You Need\n"
     ]
    },
    {
     "data": {
      "text/plain": [
       "'/home/jordan/documents/GitHub/arxiv-chat/data/example_paper.pdf'"
      ]
     },
     "execution_count": 4,
     "metadata": {},
     "output_type": "execute_result"
    }
   ],
   "source": [
    "pdf_ids = [\"1706.03762v6\", \"1605.08386v1\"]\n",
    "\n",
    "# Search for the paper with ID \"1605.08386v1\"\n",
    "search_by_id = arxiv.Search(id_list=[pdf_ids[0]])\n",
    "paper = next(client.results(search_by_id))\n",
    "print(paper.title)\n",
    "\n",
    "paper.download_pdf(dirpath=PDF_DIR, filename=\"example_paper.pdf\")"
   ]
  },
  {
   "cell_type": "code",
   "execution_count": 5,
   "metadata": {},
   "outputs": [
    {
     "name": "stdout",
     "output_type": "stream",
     "text": [
      " Already downloaded: Attention is All You Need\n",
      " Already downloaded: BERT: Pre-training of Deep Bidirectional Transformers for Language Understanding\n",
      " Already downloaded: Generative Adversarial Nets\n",
      " Already downloaded: Playing Atari with Deep Reinforcement Learning\n",
      " Already downloaded: ImageNet Classification with Deep Convolutional Neural Networks\n"
     ]
    }
   ],
   "source": [
    "papers = {\n",
    "    \"paper_1\": {\n",
    "        \"title\": \"Attention is All You Need\",\n",
    "        \"arxiv_id\": \"1706.03762\",\n",
    "        \"filename\": \"vaswani_et_al_2017.pdf\",\n",
    "    },\n",
    "    \"paper_2\": {\n",
    "        \"title\": \"BERT: Pre-training of Deep Bidirectional Transformers for Language Understanding\",\n",
    "        \"arxiv_id\": \"1810.04805\",\n",
    "        \"filename\": \"devlin_et_al_2018.pdf\",\n",
    "    },\n",
    "    \"paper_3\": {\n",
    "        \"title\": \"Generative Adversarial Nets\",\n",
    "        \"arxiv_id\": \"1406.2661\",\n",
    "        \"filename\": \"goodfellow_et_al_2014.pdf\",\n",
    "    },\n",
    "    \"paper_4\": {\n",
    "        \"title\": \"Playing Atari with Deep Reinforcement Learning\",\n",
    "        \"arxiv_id\": \"1312.5602\",\n",
    "        \"filename\": \"mnih_et_al_2013.pdf\",\n",
    "    },\n",
    "    \"paper_5\": {\n",
    "        \"title\": \"ImageNet Classification with Deep Convolutional Neural Networks\",\n",
    "        \"arxiv_id\": \"\",\n",
    "        \"alt_url\": \"https://proceedings.neurips.cc/paper_files/paper/2012/file/c399862d3b9d6b76c8436e924a68c45b-Paper.pdf\",\n",
    "        \"filename\": \"krizhevsky_et_al_2012.pdf\",\n",
    "    },\n",
    "}\n",
    "\n",
    "for paper in papers.values():\n",
    "    # Check if the paper has been downloaded\n",
    "    if not os.path.exists(os.path.join(PDF_DIR, paper[\"filename\"])):\n",
    "        if paper[\"arxiv_id\"] == \"\":\n",
    "            print(paper[\"title\"])\n",
    "            urllib.request.urlretrieve(\n",
    "                paper[\"alt_url\"], os.path.join(PDF_DIR, paper[\"filename\"])\n",
    "            )\n",
    "        else:\n",
    "            search_by_id = arxiv.Search(id_list=[paper[\"arxiv_id\"]])\n",
    "            paper_info = next(client.results(search_by_id))\n",
    "            print(paper_info.title)\n",
    "            paper_info.download_pdf(dirpath=PDF_DIR, filename=paper[\"filename\"])\n",
    "    else:\n",
    "        print(f\" Already downloaded: {paper['title']}\")"
   ]
  },
  {
   "cell_type": "markdown",
   "metadata": {},
   "source": [
    "## Get most recent ML papers from arxiv\n"
   ]
  },
  {
   "cell_type": "code",
   "execution_count": null,
   "metadata": {},
   "outputs": [],
   "source": []
  }
 ],
 "metadata": {
  "kernelspec": {
   "display_name": "venv",
   "language": "python",
   "name": "python3"
  },
  "language_info": {
   "codemirror_mode": {
    "name": "ipython",
    "version": 3
   },
   "file_extension": ".py",
   "mimetype": "text/x-python",
   "name": "python",
   "nbconvert_exporter": "python",
   "pygments_lexer": "ipython3",
   "version": "3.11.8"
  }
 },
 "nbformat": 4,
 "nbformat_minor": 2
}
